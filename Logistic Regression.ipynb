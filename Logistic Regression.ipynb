{
 "cells": [
  {
   "cell_type": "code",
   "execution_count": 20,
   "metadata": {
    "collapsed": false
   },
   "outputs": [],
   "source": [
    "import numpy as np\n",
    "subject_word_to_indx = { \"ship\":2,\"boy\":4 }\n",
    "action_word_to_indx = {\"sail\" : 3 }\n",
    "object_word_to_indx = {\"sea\" : 5 }\n",
    "vocab_count = 6\n",
    "partial_captions = [(2,3,5)]\n",
    "cap = np.array([0,1,2,3,4]).reshape((5,1))\n",
    "images_features = np.arange(5000).reshape((5,1000))"
   ]
  },
  {
   "cell_type": "code",
   "execution_count": 22,
   "metadata": {
    "collapsed": false
   },
   "outputs": [
    {
     "name": "stdout",
     "output_type": "stream",
     "text": [
      "Logistic Regression score: 1.000000\n"
     ]
    },
    {
     "data": {
      "text/plain": [
       "array([0, 1, 2, 3, 4])"
      ]
     },
     "execution_count": 22,
     "metadata": {},
     "output_type": "execute_result"
    }
   ],
   "source": [
    "from sklearn import linear_model\n",
    "\n",
    "n_samples = len(images_features)\n",
    "\n",
    "X_train = images_features\n",
    "y_train = cap\n",
    "\n",
    "logistic = linear_model.LogisticRegression()\n",
    "\n",
    "print('Logistic Regression score: %f'\n",
    "      % logistic.fit(X_train, y_train).score(X_train, y_train))\n",
    "logistic.predict(X_train)"
   ]
  },
  {
   "cell_type": "code",
   "execution_count": 26,
   "metadata": {
    "collapsed": false
   },
   "outputs": [],
   "source": [
    "import pickle\n",
    "d = pickle.load(open('image_caption_using_attention/flickr8k_Entire_dataset_with_cnn_features.pkl'))"
   ]
  },
  {
   "cell_type": "code",
   "execution_count": 31,
   "metadata": {
    "collapsed": false
   },
   "outputs": [
    {
     "name": "stdout",
     "output_type": "stream",
     "text": [
      "A black dog is running after a white dog in the snow .\n",
      "A little baby plays croquet .\n",
      "A brown dog in the snow has something hot pink in its mouth .\n",
      "A brown dog is running along a beach .\n",
      "A black and white dog with a red Frisbee standing on a sandy beach .\n",
      "A cyclist wearing a red helmet is riding on the pavement .\n",
      "A man dressed in a purple shirt and red bandanna smiles at the people watching him .\n",
      "A boy wearing a red t-shirt is running through woodland .\n",
      "A girl in a white dress .\n",
      "A skier in a yellow jacket is airborne above the mountains .\n"
     ]
    }
   ],
   "source": [
    "for i in (d[:10]):\n",
    "    print i['sentences'][0]['raw']\n"
   ]
  },
  {
   "cell_type": "code",
   "execution_count": null,
   "metadata": {
    "collapsed": true
   },
   "outputs": [],
   "source": [
    "\"dog\"\n",
    "\"run\"\n",
    "\"snow\"\n",
    "\n",
    "\"baby\" \n",
    "\"play\"\n",
    "\"truck\"\n",
    "\n",
    "\"dog\"\n",
    "\"hold\"\n",
    "\"snow\"\n",
    "\n",
    "\n",
    "\"dog\" \n",
    "\"run\"\n",
    "\"beach\"\n",
    "\n",
    "\n",
    "\"dog\"\n",
    "\"stand\"\n",
    "\"beach\"\n",
    "\n",
    "\"cyclist\"\n",
    "\"ride\"\n",
    "\"pavement\"\n",
    "\n",
    "\n",
    "A man dressed in a purple shirt and red bandanna smiles at the people watching him .\n",
    "A boy wearing a red t-shirt is running through woodland .\n",
    "A girl in a white dress .\n",
    "A skier in a yellow jacket is airborne above the mountains ."
   ]
  },
  {
   "cell_type": "code",
   "execution_count": 36,
   "metadata": {
    "collapsed": true
   },
   "outputs": [],
   "source": [
    "subj_word_dict = {\"dog\":1,\"baby\":2,\"cyclist\":3}\n",
    "action_word_dict = {\"run\":1,\"play\":2, \"hold\":3, \"stand\":4, \"ride\":5}\n",
    "area_word_dict = {\"snow\":1, \"truck\":2, \"beach\": 3, \"pavement\":4}\n",
    "y_sub = np.array([1,2,1,1,1,3])\n",
    "y_action = np.array([1,2,3,1,4,5])\n",
    "y_area = np.array([1,2,1,3,3,4])"
   ]
  },
  {
   "cell_type": "code",
   "execution_count": 34,
   "metadata": {
    "collapsed": true
   },
   "outputs": [],
   "source": [
    "X_train = []\n",
    "for i in (d[:6]):\n",
    "    X_train.append(i['cnn features'])\n",
    "X_train = np.array(X_train)"
   ]
  },
  {
   "cell_type": "code",
   "execution_count": 37,
   "metadata": {
    "collapsed": false
   },
   "outputs": [
    {
     "name": "stdout",
     "output_type": "stream",
     "text": [
      "Logistic Regression score: 0.666667\n",
      "Logistic Regression score: 0.666667\n",
      "Logistic Regression score: 0.666667\n"
     ]
    }
   ],
   "source": [
    "logistic_subject = linear_model.LogisticRegression()\n",
    "logistic_action = linear_model.LogisticRegression()\n",
    "logistic_area = linear_model.LogisticRegression()\n",
    "\n",
    "print('Logistic Regression score: %f'\n",
    "      % logistic_subject.fit(X_train, y_sub).score(X_train, y_sub))\n",
    "\n",
    "print('Logistic Regression score: %f'\n",
    "      % logistic_action.fit(X_train, y_action).score(X_train, y_action))\n",
    "\n",
    "print('Logistic Regression score: %f'\n",
    "      % logistic_area.fit(X_train, y_area).score(X_train, y_area))"
   ]
  },
  {
   "cell_type": "code",
   "execution_count": 40,
   "metadata": {
    "collapsed": false
   },
   "outputs": [
    {
     "data": {
      "text/plain": [
       "array([1, 1, 3, 1, 4, 1])"
      ]
     },
     "execution_count": 40,
     "metadata": {},
     "output_type": "execute_result"
    }
   ],
   "source": [
    "logistic_action.predict(X_train)"
   ]
  }
 ],
 "metadata": {
  "kernelspec": {
   "display_name": "Python [Root]",
   "language": "python",
   "name": "Python [Root]"
  },
  "language_info": {
   "codemirror_mode": {
    "name": "ipython",
    "version": 2
   },
   "file_extension": ".py",
   "mimetype": "text/x-python",
   "name": "python",
   "nbconvert_exporter": "python",
   "pygments_lexer": "ipython2",
   "version": "2.7.12"
  }
 },
 "nbformat": 4,
 "nbformat_minor": 0
}
