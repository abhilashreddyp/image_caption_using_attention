{
 "cells": [
  {
   "cell_type": "code",
   "execution_count": 1,
   "metadata": {
    "collapsed": false
   },
   "outputs": [],
   "source": [
    "import numpy as np\n",
    "from sklearn.linear_model import LogistricRegression as LR\n",
    "from sklearn.svm import SVC"
   ]
  },
  {
   "cell_type": "code",
   "execution_count": 2,
   "metadata": {
    "collapsed": false
   },
   "outputs": [
    {
     "name": "stdout",
     "output_type": "stream",
     "text": [
      "(5, 1000)\n",
      "(5,)\n"
     ]
    }
   ],
   "source": [
    "subject_word_to_indx = { \"ship\":2,\"boy\":4 }\n",
    "action_word_to_indx = {\"sail\" : 3 }\n",
    "object_word_to_indx = {\"sea\" : 5 }\n",
    "vocab_count = 6\n",
    "partial_captions = [(2,3,5)]\n",
    "cap = np.array([0,1,2,3,4]).reshape((5,1))\n",
    "images_features = np.arange(5000).reshape((5,1000))\n",
    "\n",
    "n_samples = len(images_features)\n",
    "\n",
    "X_train = images_features\n",
    "y_train = cap.ravel()\n",
    "\n",
    "print(X_train.shape)\n",
    "print(y_train.shape)"
   ]
  },
  {
   "cell_type": "code",
   "execution_count": 3,
   "metadata": {
    "collapsed": false
   },
   "outputs": [
    {
     "data": {
      "text/plain": [
       "SVC(C=1.0, cache_size=200, class_weight=None, coef0=0.0,\n",
       "  decision_function_shape=None, degree=3, gamma='auto', kernel='poly',\n",
       "  max_iter=-1, probability=False, random_state=None, shrinking=True,\n",
       "  tol=0.001, verbose=False)"
      ]
     },
     "execution_count": 3,
     "metadata": {},
     "output_type": "execute_result"
    }
   ],
   "source": [
    "svc = SVC(kernel='poly')\n",
    "svc.fit(X_train, y_train)"
   ]
  },
  {
   "cell_type": "code",
   "execution_count": 4,
   "metadata": {
    "collapsed": false
   },
   "outputs": [
    {
     "name": "stdout",
     "output_type": "stream",
     "text": [
      "[[  0.00000000e+00   1.00000000e+00   2.00000000e+00 ...,   9.97000000e+02\n",
      "    9.98000000e+02   9.99000000e+02]\n",
      " [  1.00000000e+03   1.00100000e+03   1.00200000e+03 ...,   1.99700000e+03\n",
      "    1.99800000e+03   1.99900000e+03]\n",
      " [  2.00000000e+03   2.00100000e+03   2.00200000e+03 ...,   2.99700000e+03\n",
      "    2.99800000e+03   2.99900000e+03]\n",
      " [  3.00000000e+03   3.00100000e+03   3.00200000e+03 ...,   3.99700000e+03\n",
      "    3.99800000e+03   3.99900000e+03]\n",
      " [  4.00000000e+03   4.00100000e+03   4.00200000e+03 ...,   4.99700000e+03\n",
      "    4.99800000e+03   4.99900000e+03]]\n",
      "[0 1 2 3 4]\n",
      "[1 1 1 1 1]\n"
     ]
    }
   ],
   "source": [
    "# get support vectors\n",
    "print(svc.support_vectors_)\n",
    "# get indices of support vectors\n",
    "print(svc.support_)\n",
    "# get number of support vectors for each class\n",
    "print(svc.n_support_)\n"
   ]
  },
  {
   "cell_type": "code",
   "execution_count": 5,
   "metadata": {
    "collapsed": false
   },
   "outputs": [
    {
     "data": {
      "text/plain": [
       "1.0"
      ]
     },
     "execution_count": 5,
     "metadata": {},
     "output_type": "execute_result"
    }
   ],
   "source": [
    "#svc.decision_function(X_train)\n",
    "#svc.predict(X_train)\n",
    "svc.score(X_train, y_train)"
   ]
  },
  {
   "cell_type": "code",
   "execution_count": null,
   "metadata": {
    "collapsed": true
   },
   "outputs": [],
   "source": [
    "X_train = \"<cnn features\"\n",
    "y_object_train = \"<object labels>\"\n",
    "y_action_train = \"<action labels>\"\n",
    "y_scene_train = \"<scene labels>\""
   ]
  },
  {
   "cell_type": "code",
   "execution_count": null,
   "metadata": {
    "collapsed": true
   },
   "outputs": [],
   "source": [
    "svc_object = SVC()\n",
    "svc_action = SCV()\n",
    "svc_scene = SVC()"
   ]
  },
  {
   "cell_type": "code",
   "execution_count": null,
   "metadata": {
    "collapsed": true
   },
   "outputs": [],
   "source": [
    "print('SVC Training score: %f'\n",
    "      % svc_object.fit(X_train, y_object_train).score(X_train, y_object_train))\n",
    "\n",
    "print('SVC Training score: %f'\n",
    "      % svc_action.fit(X_train, y_action_train).score(X_train, y_action_train))\n",
    "\n",
    "print('SVC Training score: %f'\n",
    "      % svc_scene.fit(X_train, y_scene_train).score(X_train, y_scene_train))"
   ]
  },
  {
   "cell_type": "code",
   "execution_count": null,
   "metadata": {
    "collapsed": true
   },
   "outputs": [],
   "source": [
    "X_test = \"<cnn features\"\n",
    "y_object_test = \"<object labels>\"\n",
    "y_action_test = \"<action labels>\"\n",
    "y_scene_test = \"<scene labels>"
   ]
  },
  {
   "cell_type": "code",
   "execution_count": null,
   "metadata": {
    "collapsed": true
   },
   "outputs": [],
   "source": [
    "print('SVC Test score: %f'\n",
    "      % svc_object.score(X_test, y_object_test))\n",
    "print('SVC Test score: %f'\n",
    "      % svc_action.score(X_test, y_action_test))\n",
    "print('SVC Test score: %f'\n",
    "      % svc_scene.score(X_test, y_scene_test))"
   ]
  },
  {
   "cell_type": "code",
   "execution_count": null,
   "metadata": {
    "collapsed": true
   },
   "outputs": [],
   "source": [
    "lr_object = LR()\n",
    "lr_action = LR()\n",
    "lr_scene = LR()"
   ]
  },
  {
   "cell_type": "code",
   "execution_count": null,
   "metadata": {
    "collapsed": true
   },
   "outputs": [],
   "source": [
    "print('LR Training score: %f'\n",
    "      % lr_object.fit(X_train, y_object_train).score(X_train, y_object_train))\n",
    "\n",
    "print('LR Training score: %f'\n",
    "      % lr_action.fit(X_train, y_action_train).score(X_train, y_action_train))\n",
    "\n",
    "print('LR Training score: %f'\n",
    "      % lr_scene.fit(X_train, y_scene_train).score(X_train, y_scene_train))"
   ]
  },
  {
   "cell_type": "code",
   "execution_count": null,
   "metadata": {
    "collapsed": true
   },
   "outputs": [],
   "source": [
    "print('LR Test score: %f'\n",
    "      % lr_object.score(X_test, y_object_test))\n",
    "print('LR Test score: %f'\n",
    "      % lr_action.score(X_test, y_action_test))\n",
    "print('LR Test score: %f'\n",
    "      % lr_scene.score(X_test, y_scene_test))"
   ]
  }
 ],
 "metadata": {
  "anaconda-cloud": {},
  "kernelspec": {
   "display_name": "Python 3",
   "language": "python",
   "name": "python3"
  },
  "language_info": {
   "codemirror_mode": {
    "name": "ipython",
    "version": 3
   },
   "file_extension": ".py",
   "mimetype": "text/x-python",
   "name": "python",
   "nbconvert_exporter": "python",
   "pygments_lexer": "ipython3",
   "version": "3.4.4"
  }
 },
 "nbformat": 4,
 "nbformat_minor": 2
}
